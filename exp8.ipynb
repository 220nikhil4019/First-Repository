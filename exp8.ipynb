{
 "cells": [
  {
   "cell_type": "markdown",
   "id": "e8b564de",
   "metadata": {},
   "source": [
    "# User Defined Functions"
   ]
  },
  {
   "cell_type": "code",
   "execution_count": 8,
   "id": "9c920a9e",
   "metadata": {},
   "outputs": [
    {
     "name": "stdout",
     "output_type": "stream",
     "text": [
      "The sum is 11\n"
     ]
    }
   ],
   "source": [
    "def add_numbers(x,y):\n",
    "   sum = x + y\n",
    "   return sum\n",
    "\n",
    "num1 = 5\n",
    "num2 = 6\n",
    "\n",
    "print(\"The sum is\", add_numbers(num1, num2))"
   ]
  },
  {
   "cell_type": "code",
   "execution_count": 2,
   "id": "ccc34bc0",
   "metadata": {},
   "outputs": [
    {
     "name": "stdout",
     "output_type": "stream",
     "text": [
      "Average of  12  and  4  is  8.0\n"
     ]
    }
   ],
   "source": [
    "def avg_number(x, y):\n",
    "    print(\"Average of \",x,\" and \",y, \" is \",(x+y)/2)\n",
    "avg_number(12, 4)"
   ]
  },
  {
   "cell_type": "code",
   "execution_count": 9,
   "id": "8d33f1b9",
   "metadata": {},
   "outputs": [
    {
     "name": "stdout",
     "output_type": "stream",
     "text": [
      "The square of the sum of 2 and 2 is :  16\n",
      "The square of the sum of 2 and 3 is :  36\n"
     ]
    }
   ],
   "source": [
    "def nsquare(x, y = 2):\n",
    "    return (x*x + 2*x*y + y*y)\n",
    "print(\"The square of the sum of 2 and 2 is : \", nsquare(2))\n",
    "print(\"The square of the sum of 2 and 3 is : \", nsquare(2,4))"
   ]
  },
  {
   "cell_type": "code",
   "execution_count": 13,
   "id": "153de153",
   "metadata": {},
   "outputs": [
    {
     "name": "stdout",
     "output_type": "stream",
     "text": [
      "vaibhavi friends\n",
      "apurva friends\n",
      "himani friends\n"
     ]
    }
   ],
   "source": [
    "def my_function(fname):\n",
    "  print(fname + \" friends\")\n",
    "\n",
    "my_function(\"vaibhavi\")\n",
    "my_function(\"apurva\")\n",
    "my_function(\"himani\")"
   ]
  },
  {
   "cell_type": "code",
   "execution_count": 18,
   "id": "181ac4d3",
   "metadata": {},
   "outputs": [
    {
     "name": "stdout",
     "output_type": "stream",
     "text": [
      "The youngest child is suresh\n",
      "The older child is ramesh\n"
     ]
    }
   ],
   "source": [
    "def my_function(*kids):\n",
    "    print(\"The youngest child is \" + kids[2])\n",
    "    print(\"The older child is \" + kids[1])\n",
    "\n",
    "my_function(\"raju\", \"ramesh\", \"suresh\")"
   ]
  },
  {
   "cell_type": "code",
   "execution_count": 5,
   "id": "b999539b",
   "metadata": {},
   "outputs": [
    {
     "name": "stdout",
     "output_type": "stream",
     "text": [
      "Marks in : English is -  71 , Math -  77 , Science -  80\n",
      "Marks in : English is -  65 , Math -  85 , Science -  74\n",
      "Marks in : English is -  75 , Math -  90 , Science -  70\n"
     ]
    }
   ],
   "source": [
    "def marks(english, math = 85, science = 80):\n",
    "    print('Marks in : English is - ', english,', Math - ',math, ', Science - ',science)\n",
    "marks(71, 77)\n",
    "marks(65, science = 74)\n",
    "marks(science = 70, math = 90, english = 75)"
   ]
  },
  {
   "cell_type": "code",
   "execution_count": 6,
   "id": "ff00e445",
   "metadata": {},
   "outputs": [
    {
     "name": "stdout",
     "output_type": "stream",
     "text": [
      "10\n"
     ]
    }
   ],
   "source": [
    "def sum(*numbers):\n",
    "     s = 0\n",
    "     for n in numbers:\n",
    "           s += n\n",
    "     return s\n",
    "\n",
    "print(sum(1,2,3,4))"
   ]
  },
  {
   "cell_type": "code",
   "execution_count": 21,
   "id": "8e054760",
   "metadata": {},
   "outputs": [
    {
     "name": "stdout",
     "output_type": "stream",
     "text": [
      "I am from Sweden\n",
      "I am from India\n",
      "I am from Norway\n",
      "I am from Brazil\n"
     ]
    }
   ],
   "source": [
    "def my_function(country = \"Norway\"):\n",
    "  print(\"I am from \" + country)\n",
    "\n",
    "my_function(\"america\")\n",
    "my_function(\"India\")\n",
    "my_function()\n",
    "my_function(\"Brazil\")"
   ]
  },
  {
   "cell_type": "markdown",
   "id": "c8e99c42",
   "metadata": {},
   "source": [
    "# Anonymous Function"
   ]
  },
  {
   "cell_type": "markdown",
   "id": "ad797557",
   "metadata": {},
   "source": [
    "## 1.Lambda Function"
   ]
  },
  {
   "cell_type": "code",
   "execution_count": 30,
   "id": "b56c5a81",
   "metadata": {},
   "outputs": [
    {
     "name": "stdout",
     "output_type": "stream",
     "text": [
      "15\n"
     ]
    }
   ],
   "source": [
    "x = lambda a : a + 10\n",
    "print(x(5))"
   ]
  },
  {
   "cell_type": "code",
   "execution_count": 24,
   "id": "1e820abf",
   "metadata": {},
   "outputs": [
    {
     "name": "stdout",
     "output_type": "stream",
     "text": [
      "cube of 5: 125\n"
     ]
    }
   ],
   "source": [
    "def cube(y):\n",
    "    return y*y*y\n",
    " \n",
    "lambda_cube = lambda y: y*y*y\n",
    "\n",
    "print(\"cube of 5:\", lambda_cube(5))"
   ]
  },
  {
   "cell_type": "code",
   "execution_count": 26,
   "id": "f9cb49d5",
   "metadata": {},
   "outputs": [
    {
     "name": "stdout",
     "output_type": "stream",
     "text": [
      "10\n",
      "20\n",
      "30\n",
      "40\n",
      "50\n"
     ]
    }
   ],
   "source": [
    "\n",
    "even_list = [lambda arg=x: arg * 10 for x in range(1, 6)]\n",
    "\n",
    "for item in even_list:\n",
    "    print(item())"
   ]
  },
  {
   "cell_type": "code",
   "execution_count": 29,
   "id": "22a64792",
   "metadata": {},
   "outputs": [
    {
     "name": "stdout",
     "output_type": "stream",
     "text": [
      "10\n"
     ]
    }
   ],
   "source": [
    "Max = lambda a, b : a if(a > b) else b\n",
    " \n",
    "print(Max(6, 10))"
   ]
  },
  {
   "cell_type": "code",
   "execution_count": 33,
   "id": "51e7ce1d",
   "metadata": {},
   "outputs": [
    {
     "name": "stdout",
     "output_type": "stream",
     "text": [
      "22\n",
      "33\n"
     ]
    }
   ],
   "source": [
    "def myfunc(n):\n",
    "  return lambda a : a * n\n",
    "\n",
    "doubler = myfunc(2)\n",
    "tripler = myfunc(3)\n",
    "\n",
    "print(doubler(11))\n",
    "print(tripler(11))"
   ]
  },
  {
   "cell_type": "code",
   "execution_count": 34,
   "id": "11901f5c",
   "metadata": {},
   "outputs": [
    {
     "name": "stdout",
     "output_type": "stream",
     "text": [
      "[16, 4, 169, 441, 25]\n"
     ]
    }
   ],
   "source": [
    "l1 = [4, 2, 13, 21, 5]\n",
    "  \n",
    "l2 = []\n",
    "\n",
    "for i in l1:\n",
    "\n",
    "    temp=lambda i:i**2\n",
    "\n",
    "    l2.append(temp(i))\n",
    "\n",
    "print(l2)"
   ]
  },
  {
   "cell_type": "markdown",
   "id": "c049bc5b",
   "metadata": {},
   "source": [
    "## 2. Map Function"
   ]
  },
  {
   "cell_type": "code",
   "execution_count": 54,
   "id": "afe08b49",
   "metadata": {},
   "outputs": [
    {
     "data": {
      "text/plain": [
       "[2, 4, 6, 8]"
      ]
     },
     "execution_count": 54,
     "metadata": {},
     "output_type": "execute_result"
    }
   ],
   "source": [
    "def multiply2(x):\n",
    "  return x * 2\n",
    "list(map(multiply2, [1, 2, 3, 4]))"
   ]
  },
  {
   "cell_type": "code",
   "execution_count": 55,
   "id": "cfd371c3",
   "metadata": {},
   "outputs": [
    {
     "data": {
      "text/plain": [
       "[2, 4, 6, 8]"
      ]
     },
     "execution_count": 55,
     "metadata": {},
     "output_type": "execute_result"
    }
   ],
   "source": [
    "list(map(lambda x : x*2, [1, 2, 3, 4])) "
   ]
  },
  {
   "cell_type": "code",
   "execution_count": 56,
   "id": "081d0bd7",
   "metadata": {},
   "outputs": [
    {
     "data": {
      "text/plain": [
       "[11, 22, 33]"
      ]
     },
     "execution_count": 56,
     "metadata": {},
     "output_type": "execute_result"
    }
   ],
   "source": [
    "list_a = [1, 2, 3]\n",
    "list_b = [10, 20, 30]\n",
    "  \n",
    "list(map(lambda x, y: x + y, list_a, list_b))"
   ]
  },
  {
   "cell_type": "markdown",
   "id": "f8b16d4a",
   "metadata": {},
   "source": [
    "## 3. Filter Function"
   ]
  },
  {
   "cell_type": "code",
   "execution_count": 57,
   "id": "e08bbf72",
   "metadata": {},
   "outputs": [
    {
     "data": {
      "text/plain": [
       "[2, 4, 6]"
      ]
     },
     "execution_count": 57,
     "metadata": {},
     "output_type": "execute_result"
    }
   ],
   "source": [
    "a = [1, 2, 3, 4, 5, 6]\n",
    "list(filter(lambda x : x % 2 == 0, a))"
   ]
  },
  {
   "cell_type": "code",
   "execution_count": 59,
   "id": "61869149",
   "metadata": {},
   "outputs": [
    {
     "data": {
      "text/plain": [
       "['apple', 'mango']"
      ]
     },
     "execution_count": 59,
     "metadata": {},
     "output_type": "execute_result"
    }
   ],
   "source": [
    "strs = ['apple', 'and', 'a', 'mango']\n",
    "list(filter(lambda s: len(s) > 3, strs))"
   ]
  },
  {
   "cell_type": "code",
   "execution_count": 61,
   "id": "e1f7b989",
   "metadata": {},
   "outputs": [
    {
     "data": {
      "text/plain": [
       "[{'name': 'python', 'points': 10}]"
      ]
     },
     "execution_count": 61,
     "metadata": {},
     "output_type": "execute_result"
    }
   ],
   "source": [
    "dictionary = [{'name': 'python', 'points': 10}, {'name': 'java', 'points': 8}]\n",
    "\n",
    "list(filter(lambda x : x['name'] == 'python', dictionary))"
   ]
  },
  {
   "cell_type": "code",
   "execution_count": 69,
   "id": "0641c693",
   "metadata": {},
   "outputs": [
    {
     "name": "stdout",
     "output_type": "stream",
     "text": [
      "[2, 4]\n"
     ]
    }
   ],
   "source": [
    "list_a = [1, 2, 3, 4, 5]\n",
    "\n",
    "filter_obj = list(filter(lambda x: x % 2 == 0, list_a))\n",
    "print(filter_obj)\n"
   ]
  },
  {
   "cell_type": "code",
   "execution_count": null,
   "id": "25a7d709",
   "metadata": {},
   "outputs": [],
   "source": []
  }
 ],
 "metadata": {
  "kernelspec": {
   "display_name": "Python 3 (ipykernel)",
   "language": "python",
   "name": "python3"
  },
  "language_info": {
   "codemirror_mode": {
    "name": "ipython",
    "version": 3
   },
   "file_extension": ".py",
   "mimetype": "text/x-python",
   "name": "python",
   "nbconvert_exporter": "python",
   "pygments_lexer": "ipython3",
   "version": "3.8.10"
  }
 },
 "nbformat": 4,
 "nbformat_minor": 5
}
